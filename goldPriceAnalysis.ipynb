{
 "cells": [
  {
   "cell_type": "markdown",
   "metadata": {},
   "source": [
    "# Can we build an ensemble model to help us make a profit? Should this model use a running window or is the nature of gold prices static? These are some of the many questions that we will hope to answer.\n",
    "## Table of Contents"
   ]
  },
  {
   "cell_type": "code",
   "execution_count": 91,
   "metadata": {},
   "outputs": [],
   "source": [
    "import pandas as pd \n",
    "import numpy as np\n",
    "#Regular expressions for fine-tuned searching\n",
    "import matplotlib.pyplot as plt\n",
    "import re\n",
    "import datetime"
   ]
  },
  {
   "cell_type": "code",
   "execution_count": 156,
   "metadata": {},
   "outputs": [],
   "source": [
    "df = pd.read_csv(\"financial_regression.csv\")"
   ]
  },
  {
   "cell_type": "markdown",
   "metadata": {},
   "source": [
    "Let's take a look at our dataset:"
   ]
  },
  {
   "cell_type": "code",
   "execution_count": 114,
   "metadata": {},
   "outputs": [
    {
     "name": "stdout",
     "output_type": "stream",
     "text": [
      "<class 'pandas.core.frame.DataFrame'>\n",
      "RangeIndex: 3904 entries, 0 to 3903\n",
      "Data columns (total 47 columns):\n",
      " #   Column              Non-Null Count  Dtype  \n",
      "---  ------              --------------  -----  \n",
      " 0   date                3904 non-null   object \n",
      " 1   sp500 open          3719 non-null   float64\n",
      " 2   sp500 high          3719 non-null   float64\n",
      " 3   sp500 low           3719 non-null   float64\n",
      " 4   sp500 close         3719 non-null   float64\n",
      " 5   sp500 volume        3719 non-null   float64\n",
      " 6   sp500 high-low      3719 non-null   float64\n",
      " 7   nasdaq open         3719 non-null   float64\n",
      " 8   nasdaq high         3719 non-null   float64\n",
      " 9   nasdaq low          3719 non-null   float64\n",
      " 10  nasdaq close        3719 non-null   float64\n",
      " 11  nasdaq volume       3719 non-null   float64\n",
      " 12  nasdaq high-low     3719 non-null   float64\n",
      " 13  us_rates_%          176 non-null    float64\n",
      " 14  CPI                 176 non-null    float64\n",
      " 15  usd_chf             3694 non-null   float64\n",
      " 16  eur_usd             3694 non-null   float64\n",
      " 17  GDP                 57 non-null     float64\n",
      " 18  silver open         3719 non-null   float64\n",
      " 19  silver high         3719 non-null   float64\n",
      " 20  silver low          3719 non-null   float64\n",
      " 21  silver close        3719 non-null   float64\n",
      " 22  silver volume       3719 non-null   float64\n",
      " 23  silver high-low     3719 non-null   float64\n",
      " 24  oil open            3719 non-null   float64\n",
      " 25  oil high            3719 non-null   float64\n",
      " 26  oil low             3719 non-null   float64\n",
      " 27  oil close           3719 non-null   float64\n",
      " 28  oil volume          3719 non-null   float64\n",
      " 29  oil high-low        3719 non-null   float64\n",
      " 30  platinum open       3719 non-null   float64\n",
      " 31  platinum high       3719 non-null   float64\n",
      " 32  platinum low        3719 non-null   float64\n",
      " 33  platinum close      3719 non-null   float64\n",
      " 34  platinum volume     3719 non-null   float64\n",
      " 35  platinum high-low   3719 non-null   float64\n",
      " 36  palladium open      3719 non-null   float64\n",
      " 37  palladium high      3719 non-null   float64\n",
      " 38  palladium low       3719 non-null   float64\n",
      " 39  palladium close     3719 non-null   float64\n",
      " 40  palladium volume    3719 non-null   float64\n",
      " 41  palladium high-low  3719 non-null   float64\n",
      " 42  gold open           3719 non-null   float64\n",
      " 43  gold high           3719 non-null   float64\n",
      " 44  gold low            3719 non-null   float64\n",
      " 45  gold close          3719 non-null   float64\n",
      " 46  gold volume         3719 non-null   float64\n",
      "dtypes: float64(46), object(1)\n",
      "memory usage: 1.4+ MB\n"
     ]
    }
   ],
   "source": [
    "df.info()"
   ]
  },
  {
   "cell_type": "code",
   "execution_count": 115,
   "metadata": {},
   "outputs": [
    {
     "data": {
      "text/html": [
       "<div>\n",
       "<style scoped>\n",
       "    .dataframe tbody tr th:only-of-type {\n",
       "        vertical-align: middle;\n",
       "    }\n",
       "\n",
       "    .dataframe tbody tr th {\n",
       "        vertical-align: top;\n",
       "    }\n",
       "\n",
       "    .dataframe thead th {\n",
       "        text-align: right;\n",
       "    }\n",
       "</style>\n",
       "<table border=\"1\" class=\"dataframe\">\n",
       "  <thead>\n",
       "    <tr style=\"text-align: right;\">\n",
       "      <th></th>\n",
       "      <th>date</th>\n",
       "      <th>sp500 open</th>\n",
       "      <th>sp500 high</th>\n",
       "      <th>sp500 low</th>\n",
       "      <th>sp500 close</th>\n",
       "      <th>sp500 volume</th>\n",
       "      <th>sp500 high-low</th>\n",
       "      <th>nasdaq open</th>\n",
       "      <th>nasdaq high</th>\n",
       "      <th>nasdaq low</th>\n",
       "      <th>...</th>\n",
       "      <th>palladium high</th>\n",
       "      <th>palladium low</th>\n",
       "      <th>palladium close</th>\n",
       "      <th>palladium volume</th>\n",
       "      <th>palladium high-low</th>\n",
       "      <th>gold open</th>\n",
       "      <th>gold high</th>\n",
       "      <th>gold low</th>\n",
       "      <th>gold close</th>\n",
       "      <th>gold volume</th>\n",
       "    </tr>\n",
       "  </thead>\n",
       "  <tbody>\n",
       "    <tr>\n",
       "      <th>0</th>\n",
       "      <td>2010-01-14</td>\n",
       "      <td>114.49</td>\n",
       "      <td>115.14</td>\n",
       "      <td>114.42</td>\n",
       "      <td>114.93</td>\n",
       "      <td>115646960.0</td>\n",
       "      <td>0.72</td>\n",
       "      <td>46.26</td>\n",
       "      <td>46.52</td>\n",
       "      <td>46.22</td>\n",
       "      <td>...</td>\n",
       "      <td>45.02</td>\n",
       "      <td>43.86</td>\n",
       "      <td>44.84</td>\n",
       "      <td>364528.0</td>\n",
       "      <td>1.16</td>\n",
       "      <td>111.51</td>\n",
       "      <td>112.37</td>\n",
       "      <td>110.79</td>\n",
       "      <td>112.03</td>\n",
       "      <td>18305238.0</td>\n",
       "    </tr>\n",
       "    <tr>\n",
       "      <th>1</th>\n",
       "      <td>2010-01-15</td>\n",
       "      <td>114.73</td>\n",
       "      <td>114.84</td>\n",
       "      <td>113.20</td>\n",
       "      <td>113.64</td>\n",
       "      <td>212252769.0</td>\n",
       "      <td>1.64</td>\n",
       "      <td>46.46</td>\n",
       "      <td>46.55</td>\n",
       "      <td>45.65</td>\n",
       "      <td>...</td>\n",
       "      <td>45.76</td>\n",
       "      <td>44.40</td>\n",
       "      <td>45.76</td>\n",
       "      <td>442210.0</td>\n",
       "      <td>1.36</td>\n",
       "      <td>111.35</td>\n",
       "      <td>112.01</td>\n",
       "      <td>110.38</td>\n",
       "      <td>110.86</td>\n",
       "      <td>18000724.0</td>\n",
       "    </tr>\n",
       "    <tr>\n",
       "      <th>2</th>\n",
       "      <td>2010-01-18</td>\n",
       "      <td>NaN</td>\n",
       "      <td>NaN</td>\n",
       "      <td>NaN</td>\n",
       "      <td>NaN</td>\n",
       "      <td>NaN</td>\n",
       "      <td>NaN</td>\n",
       "      <td>NaN</td>\n",
       "      <td>NaN</td>\n",
       "      <td>NaN</td>\n",
       "      <td>...</td>\n",
       "      <td>NaN</td>\n",
       "      <td>NaN</td>\n",
       "      <td>NaN</td>\n",
       "      <td>NaN</td>\n",
       "      <td>NaN</td>\n",
       "      <td>NaN</td>\n",
       "      <td>NaN</td>\n",
       "      <td>NaN</td>\n",
       "      <td>NaN</td>\n",
       "      <td>NaN</td>\n",
       "    </tr>\n",
       "  </tbody>\n",
       "</table>\n",
       "<p>3 rows × 47 columns</p>\n",
       "</div>"
      ],
      "text/plain": [
       "         date  sp500 open  sp500 high  sp500 low  sp500 close  sp500 volume  \\\n",
       "0  2010-01-14      114.49      115.14     114.42       114.93   115646960.0   \n",
       "1  2010-01-15      114.73      114.84     113.20       113.64   212252769.0   \n",
       "2  2010-01-18         NaN         NaN        NaN          NaN           NaN   \n",
       "\n",
       "   sp500 high-low  nasdaq open  nasdaq high  nasdaq low  ...  palladium high  \\\n",
       "0            0.72        46.26        46.52       46.22  ...           45.02   \n",
       "1            1.64        46.46        46.55       45.65  ...           45.76   \n",
       "2             NaN          NaN          NaN         NaN  ...             NaN   \n",
       "\n",
       "   palladium low  palladium close  palladium volume  palladium high-low  \\\n",
       "0          43.86            44.84          364528.0                1.16   \n",
       "1          44.40            45.76          442210.0                1.36   \n",
       "2            NaN              NaN               NaN                 NaN   \n",
       "\n",
       "   gold open  gold high  gold low  gold close  gold volume  \n",
       "0     111.51     112.37    110.79      112.03   18305238.0  \n",
       "1     111.35     112.01    110.38      110.86   18000724.0  \n",
       "2        NaN        NaN       NaN         NaN          NaN  \n",
       "\n",
       "[3 rows x 47 columns]"
      ]
     },
     "execution_count": 115,
     "metadata": {},
     "output_type": "execute_result"
    }
   ],
   "source": [
    "df.head(3)"
   ]
  },
  {
   "cell_type": "markdown",
   "metadata": {},
   "source": [
    "#### As you can see, the close price of an index on one day does not equal the open price of the same index on the following day. In order to account for the change in price after trading hours, we will look at the log returns of the close/open prices only. We will choose to use log returns of closing prices, a running standard deviation value of the same day volume, and the percent difference of high/low. This will allow us to keep as many variables as possible. We will however need to determine if we will be overfitting due to high variable count.\n",
    "#### Let us determine first how much cleaning we will have to do first."
   ]
  },
  {
   "cell_type": "code",
   "execution_count": 157,
   "metadata": {},
   "outputs": [],
   "source": [
    "#Drop the open prices\n",
    "df = df.drop([col for col in df.columns if 'open' in col], axis=1)"
   ]
  },
  {
   "cell_type": "code",
   "execution_count": 158,
   "metadata": {},
   "outputs": [
    {
     "data": {
      "text/html": [
       "<div>\n",
       "<style scoped>\n",
       "    .dataframe tbody tr th:only-of-type {\n",
       "        vertical-align: middle;\n",
       "    }\n",
       "\n",
       "    .dataframe tbody tr th {\n",
       "        vertical-align: top;\n",
       "    }\n",
       "\n",
       "    .dataframe thead th {\n",
       "        text-align: right;\n",
       "    }\n",
       "</style>\n",
       "<table border=\"1\" class=\"dataframe\">\n",
       "  <thead>\n",
       "    <tr style=\"text-align: right;\">\n",
       "      <th></th>\n",
       "      <th>date</th>\n",
       "      <th>sp500 high</th>\n",
       "      <th>sp500 low</th>\n",
       "      <th>sp500 close</th>\n",
       "      <th>sp500 volume</th>\n",
       "      <th>sp500 high-low</th>\n",
       "      <th>nasdaq high</th>\n",
       "      <th>nasdaq low</th>\n",
       "      <th>nasdaq close</th>\n",
       "      <th>nasdaq volume</th>\n",
       "      <th>...</th>\n",
       "      <th>platinum high-low</th>\n",
       "      <th>palladium high</th>\n",
       "      <th>palladium low</th>\n",
       "      <th>palladium close</th>\n",
       "      <th>palladium volume</th>\n",
       "      <th>palladium high-low</th>\n",
       "      <th>gold high</th>\n",
       "      <th>gold low</th>\n",
       "      <th>gold close</th>\n",
       "      <th>gold volume</th>\n",
       "    </tr>\n",
       "  </thead>\n",
       "  <tbody>\n",
       "    <tr>\n",
       "      <th>0</th>\n",
       "      <td>2010-01-14</td>\n",
       "      <td>115.14</td>\n",
       "      <td>114.42</td>\n",
       "      <td>114.93</td>\n",
       "      <td>115646960.0</td>\n",
       "      <td>0.72</td>\n",
       "      <td>46.52</td>\n",
       "      <td>46.22</td>\n",
       "      <td>46.39</td>\n",
       "      <td>75209000.0</td>\n",
       "      <td>...</td>\n",
       "      <td>2.1300</td>\n",
       "      <td>45.02</td>\n",
       "      <td>43.86</td>\n",
       "      <td>44.84</td>\n",
       "      <td>364528.0</td>\n",
       "      <td>1.16</td>\n",
       "      <td>112.37</td>\n",
       "      <td>110.79</td>\n",
       "      <td>112.03</td>\n",
       "      <td>18305238.0</td>\n",
       "    </tr>\n",
       "    <tr>\n",
       "      <th>1</th>\n",
       "      <td>2010-01-15</td>\n",
       "      <td>114.84</td>\n",
       "      <td>113.20</td>\n",
       "      <td>113.64</td>\n",
       "      <td>212252769.0</td>\n",
       "      <td>1.64</td>\n",
       "      <td>46.55</td>\n",
       "      <td>45.65</td>\n",
       "      <td>45.85</td>\n",
       "      <td>126849300.0</td>\n",
       "      <td>...</td>\n",
       "      <td>1.7500</td>\n",
       "      <td>45.76</td>\n",
       "      <td>44.40</td>\n",
       "      <td>45.76</td>\n",
       "      <td>442210.0</td>\n",
       "      <td>1.36</td>\n",
       "      <td>112.01</td>\n",
       "      <td>110.38</td>\n",
       "      <td>110.86</td>\n",
       "      <td>18000724.0</td>\n",
       "    </tr>\n",
       "    <tr>\n",
       "      <th>2</th>\n",
       "      <td>2010-01-18</td>\n",
       "      <td>NaN</td>\n",
       "      <td>NaN</td>\n",
       "      <td>NaN</td>\n",
       "      <td>NaN</td>\n",
       "      <td>NaN</td>\n",
       "      <td>NaN</td>\n",
       "      <td>NaN</td>\n",
       "      <td>NaN</td>\n",
       "      <td>NaN</td>\n",
       "      <td>...</td>\n",
       "      <td>NaN</td>\n",
       "      <td>NaN</td>\n",
       "      <td>NaN</td>\n",
       "      <td>NaN</td>\n",
       "      <td>NaN</td>\n",
       "      <td>NaN</td>\n",
       "      <td>NaN</td>\n",
       "      <td>NaN</td>\n",
       "      <td>NaN</td>\n",
       "      <td>NaN</td>\n",
       "    </tr>\n",
       "    <tr>\n",
       "      <th>3</th>\n",
       "      <td>2010-01-19</td>\n",
       "      <td>115.13</td>\n",
       "      <td>113.59</td>\n",
       "      <td>115.06</td>\n",
       "      <td>138671890.0</td>\n",
       "      <td>1.54</td>\n",
       "      <td>46.64</td>\n",
       "      <td>45.95</td>\n",
       "      <td>46.59</td>\n",
       "      <td>84388200.0</td>\n",
       "      <td>...</td>\n",
       "      <td>3.0278</td>\n",
       "      <td>47.08</td>\n",
       "      <td>45.70</td>\n",
       "      <td>46.94</td>\n",
       "      <td>629150.0</td>\n",
       "      <td>1.38</td>\n",
       "      <td>111.75</td>\n",
       "      <td>110.83</td>\n",
       "      <td>111.52</td>\n",
       "      <td>10467927.0</td>\n",
       "    </tr>\n",
       "  </tbody>\n",
       "</table>\n",
       "<p>4 rows × 40 columns</p>\n",
       "</div>"
      ],
      "text/plain": [
       "         date  sp500 high  sp500 low  sp500 close  sp500 volume  \\\n",
       "0  2010-01-14      115.14     114.42       114.93   115646960.0   \n",
       "1  2010-01-15      114.84     113.20       113.64   212252769.0   \n",
       "2  2010-01-18         NaN        NaN          NaN           NaN   \n",
       "3  2010-01-19      115.13     113.59       115.06   138671890.0   \n",
       "\n",
       "   sp500 high-low  nasdaq high  nasdaq low  nasdaq close  nasdaq volume  ...  \\\n",
       "0            0.72        46.52       46.22         46.39     75209000.0  ...   \n",
       "1            1.64        46.55       45.65         45.85    126849300.0  ...   \n",
       "2             NaN          NaN         NaN           NaN            NaN  ...   \n",
       "3            1.54        46.64       45.95         46.59     84388200.0  ...   \n",
       "\n",
       "   platinum high-low  palladium high  palladium low  palladium close  \\\n",
       "0             2.1300           45.02          43.86            44.84   \n",
       "1             1.7500           45.76          44.40            45.76   \n",
       "2                NaN             NaN            NaN              NaN   \n",
       "3             3.0278           47.08          45.70            46.94   \n",
       "\n",
       "   palladium volume  palladium high-low  gold high  gold low  gold close  \\\n",
       "0          364528.0                1.16     112.37    110.79      112.03   \n",
       "1          442210.0                1.36     112.01    110.38      110.86   \n",
       "2               NaN                 NaN        NaN       NaN         NaN   \n",
       "3          629150.0                1.38     111.75    110.83      111.52   \n",
       "\n",
       "   gold volume  \n",
       "0   18305238.0  \n",
       "1   18000724.0  \n",
       "2          NaN  \n",
       "3   10467927.0  \n",
       "\n",
       "[4 rows x 40 columns]"
      ]
     },
     "execution_count": 158,
     "metadata": {},
     "output_type": "execute_result"
    }
   ],
   "source": [
    "df.head(4)"
   ]
  },
  {
   "cell_type": "markdown",
   "metadata": {},
   "source": [
    "#### The high - low columns do not reflect change relative to stock price. A better alternative is to use percent difference."
   ]
  },
  {
   "cell_type": "code",
   "execution_count": 159,
   "metadata": {},
   "outputs": [
    {
     "name": "stdout",
     "output_type": "stream",
     "text": [
      "['sp500', 'nasdaq', 'silver', 'oil', 'platinum', 'palladium', 'gold']\n"
     ]
    }
   ],
   "source": [
    "#Let's attain the list of unique asssets that have closing price. This will exclude GDP, etc. that does not have low/high.\n",
    "unique_assets = [re.findall(r\"^(.*?)(?=\\sclose)\", c)[0] for c in df.columns if \"close\" in c]\n",
    "print(unique_assets)"
   ]
  },
  {
   "cell_type": "code",
   "execution_count": 160,
   "metadata": {},
   "outputs": [],
   "source": [
    "df_temp = df.copy()"
   ]
  },
  {
   "cell_type": "code",
   "execution_count": 161,
   "metadata": {},
   "outputs": [],
   "source": [
    "#For each asset that has low/high: create a column that represents the division of high/low for same day:\n",
    "for a in unique_assets:\n",
    "    df.loc[:,f\"{a} high/low\"] = df.loc[:, f\"{a} high\"]/df.loc[:,f\"{a} low\"]"
   ]
  },
  {
   "cell_type": "code",
   "execution_count": 162,
   "metadata": {},
   "outputs": [
    {
     "data": {
      "text/html": [
       "<div>\n",
       "<style scoped>\n",
       "    .dataframe tbody tr th:only-of-type {\n",
       "        vertical-align: middle;\n",
       "    }\n",
       "\n",
       "    .dataframe tbody tr th {\n",
       "        vertical-align: top;\n",
       "    }\n",
       "\n",
       "    .dataframe thead th {\n",
       "        text-align: right;\n",
       "    }\n",
       "</style>\n",
       "<table border=\"1\" class=\"dataframe\">\n",
       "  <thead>\n",
       "    <tr style=\"text-align: right;\">\n",
       "      <th></th>\n",
       "      <th>date</th>\n",
       "      <th>sp500 high</th>\n",
       "      <th>sp500 low</th>\n",
       "      <th>sp500 close</th>\n",
       "      <th>sp500 volume</th>\n",
       "      <th>sp500 high-low</th>\n",
       "      <th>nasdaq high</th>\n",
       "      <th>nasdaq low</th>\n",
       "      <th>nasdaq close</th>\n",
       "      <th>nasdaq volume</th>\n",
       "      <th>...</th>\n",
       "      <th>gold low</th>\n",
       "      <th>gold close</th>\n",
       "      <th>gold volume</th>\n",
       "      <th>sp500 high/low</th>\n",
       "      <th>nasdaq high/low</th>\n",
       "      <th>silver high/low</th>\n",
       "      <th>oil high/low</th>\n",
       "      <th>platinum high/low</th>\n",
       "      <th>palladium high/low</th>\n",
       "      <th>gold high/low</th>\n",
       "    </tr>\n",
       "  </thead>\n",
       "  <tbody>\n",
       "    <tr>\n",
       "      <th>0</th>\n",
       "      <td>2010-01-14</td>\n",
       "      <td>115.14</td>\n",
       "      <td>114.42</td>\n",
       "      <td>114.93</td>\n",
       "      <td>115646960.0</td>\n",
       "      <td>0.72</td>\n",
       "      <td>46.52</td>\n",
       "      <td>46.22</td>\n",
       "      <td>46.39</td>\n",
       "      <td>75209000.0</td>\n",
       "      <td>...</td>\n",
       "      <td>110.79</td>\n",
       "      <td>112.03</td>\n",
       "      <td>18305238.0</td>\n",
       "      <td>1.006293</td>\n",
       "      <td>1.006491</td>\n",
       "      <td>1.013550</td>\n",
       "      <td>1.014403</td>\n",
       "      <td>1.013336</td>\n",
       "      <td>1.026448</td>\n",
       "      <td>1.014261</td>\n",
       "    </tr>\n",
       "    <tr>\n",
       "      <th>1</th>\n",
       "      <td>2010-01-15</td>\n",
       "      <td>114.84</td>\n",
       "      <td>113.20</td>\n",
       "      <td>113.64</td>\n",
       "      <td>212252769.0</td>\n",
       "      <td>1.64</td>\n",
       "      <td>46.55</td>\n",
       "      <td>45.65</td>\n",
       "      <td>45.85</td>\n",
       "      <td>126849300.0</td>\n",
       "      <td>...</td>\n",
       "      <td>110.38</td>\n",
       "      <td>110.86</td>\n",
       "      <td>18000724.0</td>\n",
       "      <td>1.014488</td>\n",
       "      <td>1.019715</td>\n",
       "      <td>1.009804</td>\n",
       "      <td>1.019331</td>\n",
       "      <td>1.010972</td>\n",
       "      <td>1.030631</td>\n",
       "      <td>1.014767</td>\n",
       "    </tr>\n",
       "    <tr>\n",
       "      <th>2</th>\n",
       "      <td>2010-01-18</td>\n",
       "      <td>NaN</td>\n",
       "      <td>NaN</td>\n",
       "      <td>NaN</td>\n",
       "      <td>NaN</td>\n",
       "      <td>NaN</td>\n",
       "      <td>NaN</td>\n",
       "      <td>NaN</td>\n",
       "      <td>NaN</td>\n",
       "      <td>NaN</td>\n",
       "      <td>...</td>\n",
       "      <td>NaN</td>\n",
       "      <td>NaN</td>\n",
       "      <td>NaN</td>\n",
       "      <td>NaN</td>\n",
       "      <td>NaN</td>\n",
       "      <td>NaN</td>\n",
       "      <td>NaN</td>\n",
       "      <td>NaN</td>\n",
       "      <td>NaN</td>\n",
       "      <td>NaN</td>\n",
       "    </tr>\n",
       "  </tbody>\n",
       "</table>\n",
       "<p>3 rows × 47 columns</p>\n",
       "</div>"
      ],
      "text/plain": [
       "         date  sp500 high  sp500 low  sp500 close  sp500 volume  \\\n",
       "0  2010-01-14      115.14     114.42       114.93   115646960.0   \n",
       "1  2010-01-15      114.84     113.20       113.64   212252769.0   \n",
       "2  2010-01-18         NaN        NaN          NaN           NaN   \n",
       "\n",
       "   sp500 high-low  nasdaq high  nasdaq low  nasdaq close  nasdaq volume  ...  \\\n",
       "0            0.72        46.52       46.22         46.39     75209000.0  ...   \n",
       "1            1.64        46.55       45.65         45.85    126849300.0  ...   \n",
       "2             NaN          NaN         NaN           NaN            NaN  ...   \n",
       "\n",
       "   gold low  gold close  gold volume  sp500 high/low  nasdaq high/low  \\\n",
       "0    110.79      112.03   18305238.0        1.006293         1.006491   \n",
       "1    110.38      110.86   18000724.0        1.014488         1.019715   \n",
       "2       NaN         NaN          NaN             NaN              NaN   \n",
       "\n",
       "   silver high/low  oil high/low  platinum high/low  palladium high/low  \\\n",
       "0         1.013550      1.014403           1.013336            1.026448   \n",
       "1         1.009804      1.019331           1.010972            1.030631   \n",
       "2              NaN           NaN                NaN                 NaN   \n",
       "\n",
       "   gold high/low  \n",
       "0       1.014261  \n",
       "1       1.014767  \n",
       "2            NaN  \n",
       "\n",
       "[3 rows x 47 columns]"
      ]
     },
     "execution_count": 162,
     "metadata": {},
     "output_type": "execute_result"
    }
   ],
   "source": [
    "df.head(3)"
   ]
  },
  {
   "cell_type": "markdown",
   "metadata": {},
   "source": [
    "Now we can drop the low/high columns, as that information is already represented in the division columns"
   ]
  },
  {
   "cell_type": "code",
   "execution_count": 173,
   "metadata": {},
   "outputs": [],
   "source": [
    "df = df.drop([col for col in df.columns if re.match(r\"(.*\\s(high|low|high-low)$)\", col)], axis=1)"
   ]
  },
  {
   "cell_type": "markdown",
   "metadata": {},
   "source": [
    "### Our new dataset looks like so:"
   ]
  },
  {
   "cell_type": "code",
   "execution_count": 174,
   "metadata": {},
   "outputs": [
    {
     "data": {
      "text/html": [
       "<div>\n",
       "<style scoped>\n",
       "    .dataframe tbody tr th:only-of-type {\n",
       "        vertical-align: middle;\n",
       "    }\n",
       "\n",
       "    .dataframe tbody tr th {\n",
       "        vertical-align: top;\n",
       "    }\n",
       "\n",
       "    .dataframe thead th {\n",
       "        text-align: right;\n",
       "    }\n",
       "</style>\n",
       "<table border=\"1\" class=\"dataframe\">\n",
       "  <thead>\n",
       "    <tr style=\"text-align: right;\">\n",
       "      <th></th>\n",
       "      <th>date</th>\n",
       "      <th>sp500 close</th>\n",
       "      <th>sp500 volume</th>\n",
       "      <th>nasdaq close</th>\n",
       "      <th>nasdaq volume</th>\n",
       "      <th>us_rates_%</th>\n",
       "      <th>CPI</th>\n",
       "      <th>usd_chf</th>\n",
       "      <th>eur_usd</th>\n",
       "      <th>GDP</th>\n",
       "      <th>...</th>\n",
       "      <th>silver high/low</th>\n",
       "      <th>oil high/low</th>\n",
       "      <th>platinum high/low</th>\n",
       "      <th>palladium high/low</th>\n",
       "      <th>gold high/low</th>\n",
       "      <th>us_rates_%_interpolated</th>\n",
       "      <th>CPI_interpolated</th>\n",
       "      <th>usd_chf_interpolated</th>\n",
       "      <th>eur_usd_interpolated</th>\n",
       "      <th>GDP_interpolated</th>\n",
       "    </tr>\n",
       "  </thead>\n",
       "  <tbody>\n",
       "    <tr>\n",
       "      <th>0</th>\n",
       "      <td>2010-01-14</td>\n",
       "      <td>114.93</td>\n",
       "      <td>115646960.0</td>\n",
       "      <td>46.39</td>\n",
       "      <td>75209000.0</td>\n",
       "      <td>NaN</td>\n",
       "      <td>NaN</td>\n",
       "      <td>1.0206</td>\n",
       "      <td>1.4478</td>\n",
       "      <td>NaN</td>\n",
       "      <td>...</td>\n",
       "      <td>1.013550</td>\n",
       "      <td>1.014403</td>\n",
       "      <td>1.013336</td>\n",
       "      <td>1.026448</td>\n",
       "      <td>1.014261</td>\n",
       "      <td>0.13</td>\n",
       "      <td>217.281</td>\n",
       "      <td>1.0206</td>\n",
       "      <td>1.44780</td>\n",
       "      <td>14980.193</td>\n",
       "    </tr>\n",
       "    <tr>\n",
       "      <th>1</th>\n",
       "      <td>2010-01-15</td>\n",
       "      <td>113.64</td>\n",
       "      <td>212252769.0</td>\n",
       "      <td>45.85</td>\n",
       "      <td>126849300.0</td>\n",
       "      <td>NaN</td>\n",
       "      <td>NaN</td>\n",
       "      <td>1.0264</td>\n",
       "      <td>1.4376</td>\n",
       "      <td>NaN</td>\n",
       "      <td>...</td>\n",
       "      <td>1.009804</td>\n",
       "      <td>1.019331</td>\n",
       "      <td>1.010972</td>\n",
       "      <td>1.030631</td>\n",
       "      <td>1.014767</td>\n",
       "      <td>0.13</td>\n",
       "      <td>217.281</td>\n",
       "      <td>1.0264</td>\n",
       "      <td>1.43760</td>\n",
       "      <td>14980.193</td>\n",
       "    </tr>\n",
       "    <tr>\n",
       "      <th>2</th>\n",
       "      <td>2010-01-18</td>\n",
       "      <td>NaN</td>\n",
       "      <td>NaN</td>\n",
       "      <td>NaN</td>\n",
       "      <td>NaN</td>\n",
       "      <td>NaN</td>\n",
       "      <td>NaN</td>\n",
       "      <td>NaN</td>\n",
       "      <td>NaN</td>\n",
       "      <td>NaN</td>\n",
       "      <td>...</td>\n",
       "      <td>NaN</td>\n",
       "      <td>NaN</td>\n",
       "      <td>NaN</td>\n",
       "      <td>NaN</td>\n",
       "      <td>NaN</td>\n",
       "      <td>0.13</td>\n",
       "      <td>217.281</td>\n",
       "      <td>1.0302</td>\n",
       "      <td>1.43225</td>\n",
       "      <td>14980.193</td>\n",
       "    </tr>\n",
       "  </tbody>\n",
       "</table>\n",
       "<p>3 rows × 32 columns</p>\n",
       "</div>"
      ],
      "text/plain": [
       "        date  sp500 close  sp500 volume  nasdaq close  nasdaq volume  \\\n",
       "0 2010-01-14       114.93   115646960.0         46.39     75209000.0   \n",
       "1 2010-01-15       113.64   212252769.0         45.85    126849300.0   \n",
       "2 2010-01-18          NaN           NaN           NaN            NaN   \n",
       "\n",
       "   us_rates_%  CPI  usd_chf  eur_usd  GDP  ...  silver high/low  oil high/low  \\\n",
       "0         NaN  NaN   1.0206   1.4478  NaN  ...         1.013550      1.014403   \n",
       "1         NaN  NaN   1.0264   1.4376  NaN  ...         1.009804      1.019331   \n",
       "2         NaN  NaN      NaN      NaN  NaN  ...              NaN           NaN   \n",
       "\n",
       "   platinum high/low  palladium high/low  gold high/low  \\\n",
       "0           1.013336            1.026448       1.014261   \n",
       "1           1.010972            1.030631       1.014767   \n",
       "2                NaN                 NaN            NaN   \n",
       "\n",
       "   us_rates_%_interpolated  CPI_interpolated  usd_chf_interpolated  \\\n",
       "0                     0.13           217.281                1.0206   \n",
       "1                     0.13           217.281                1.0264   \n",
       "2                     0.13           217.281                1.0302   \n",
       "\n",
       "   eur_usd_interpolated  GDP_interpolated  \n",
       "0               1.44780         14980.193  \n",
       "1               1.43760         14980.193  \n",
       "2               1.43225         14980.193  \n",
       "\n",
       "[3 rows x 32 columns]"
      ]
     },
     "execution_count": 174,
     "metadata": {},
     "output_type": "execute_result"
    }
   ],
   "source": [
    "df.head(3)"
   ]
  },
  {
   "cell_type": "code",
   "execution_count": 165,
   "metadata": {},
   "outputs": [
    {
     "name": "stdout",
     "output_type": "stream",
     "text": [
      "<class 'pandas.core.frame.DataFrame'>\n",
      "RangeIndex: 3904 entries, 0 to 3903\n",
      "Data columns (total 27 columns):\n",
      " #   Column              Non-Null Count  Dtype  \n",
      "---  ------              --------------  -----  \n",
      " 0   date                3904 non-null   object \n",
      " 1   sp500 close         3719 non-null   float64\n",
      " 2   sp500 volume        3719 non-null   float64\n",
      " 3   nasdaq close        3719 non-null   float64\n",
      " 4   nasdaq volume       3719 non-null   float64\n",
      " 5   us_rates_%          176 non-null    float64\n",
      " 6   CPI                 176 non-null    float64\n",
      " 7   usd_chf             3694 non-null   float64\n",
      " 8   eur_usd             3694 non-null   float64\n",
      " 9   GDP                 57 non-null     float64\n",
      " 10  silver close        3719 non-null   float64\n",
      " 11  silver volume       3719 non-null   float64\n",
      " 12  oil close           3719 non-null   float64\n",
      " 13  oil volume          3719 non-null   float64\n",
      " 14  platinum close      3719 non-null   float64\n",
      " 15  platinum volume     3719 non-null   float64\n",
      " 16  palladium close     3719 non-null   float64\n",
      " 17  palladium volume    3719 non-null   float64\n",
      " 18  gold close          3719 non-null   float64\n",
      " 19  gold volume         3719 non-null   float64\n",
      " 20  sp500 high/low      3719 non-null   float64\n",
      " 21  nasdaq high/low     3719 non-null   float64\n",
      " 22  silver high/low     3719 non-null   float64\n",
      " 23  oil high/low        3719 non-null   float64\n",
      " 24  platinum high/low   3719 non-null   float64\n",
      " 25  palladium high/low  3719 non-null   float64\n",
      " 26  gold high/low       3719 non-null   float64\n",
      "dtypes: float64(26), object(1)\n",
      "memory usage: 823.6+ KB\n"
     ]
    }
   ],
   "source": [
    "df.info()"
   ]
  },
  {
   "cell_type": "code",
   "execution_count": 166,
   "metadata": {},
   "outputs": [
    {
     "name": "stdout",
     "output_type": "stream",
     "text": [
      "['date', 'us_rates_%', 'CPI', 'usd_chf', 'eur_usd', 'GDP']\n"
     ]
    }
   ],
   "source": [
    "non_asset_columns = [col for col in df.columns if \"close\" not in col and \"volume\" not in col and \"high/low\" not in col]\n",
    "print(non_asset_columns)"
   ]
  },
  {
   "cell_type": "markdown",
   "metadata": {},
   "source": [
    "Now let's update the date column to be type 'datetime'"
   ]
  },
  {
   "cell_type": "code",
   "execution_count": 167,
   "metadata": {},
   "outputs": [],
   "source": [
    "df['date'] =df['date'].apply(lambda x: datetime.datetime.strptime(x, \"%Y-%m-%d\"))"
   ]
  },
  {
   "cell_type": "markdown",
   "metadata": {},
   "source": [
    "As we can see, rates, CPI, and GDP are mostly nulls. What can we do about these to keep some of the info intact?"
   ]
  },
  {
   "cell_type": "code",
   "execution_count": 171,
   "metadata": {},
   "outputs": [
    {
     "name": "stdout",
     "output_type": "stream",
     "text": [
      "<class 'pandas.core.frame.DataFrame'>\n",
      "RangeIndex: 3904 entries, 0 to 3903\n",
      "Data columns (total 6 columns):\n",
      " #   Column      Non-Null Count  Dtype         \n",
      "---  ------      --------------  -----         \n",
      " 0   date        3904 non-null   datetime64[ns]\n",
      " 1   us_rates_%  176 non-null    float64       \n",
      " 2   CPI         176 non-null    float64       \n",
      " 3   usd_chf     3694 non-null   float64       \n",
      " 4   eur_usd     3694 non-null   float64       \n",
      " 5   GDP         57 non-null     float64       \n",
      "dtypes: datetime64[ns](1), float64(5)\n",
      "memory usage: 183.1 KB\n"
     ]
    }
   ],
   "source": [
    "df[non_asset_columns].info()"
   ]
  },
  {
   "cell_type": "code",
   "execution_count": 169,
   "metadata": {},
   "outputs": [
    {
     "data": {
      "text/html": [
       "<div>\n",
       "<style scoped>\n",
       "    .dataframe tbody tr th:only-of-type {\n",
       "        vertical-align: middle;\n",
       "    }\n",
       "\n",
       "    .dataframe tbody tr th {\n",
       "        vertical-align: top;\n",
       "    }\n",
       "\n",
       "    .dataframe thead th {\n",
       "        text-align: right;\n",
       "    }\n",
       "</style>\n",
       "<table border=\"1\" class=\"dataframe\">\n",
       "  <thead>\n",
       "    <tr style=\"text-align: right;\">\n",
       "      <th></th>\n",
       "      <th>date</th>\n",
       "      <th>us_rates_%</th>\n",
       "      <th>CPI</th>\n",
       "      <th>usd_chf</th>\n",
       "      <th>eur_usd</th>\n",
       "      <th>GDP</th>\n",
       "    </tr>\n",
       "  </thead>\n",
       "  <tbody>\n",
       "    <tr>\n",
       "      <th>55</th>\n",
       "      <td>2010-04-01</td>\n",
       "      <td>0.20</td>\n",
       "      <td>217.403</td>\n",
       "      <td>1.0559</td>\n",
       "      <td>1.3569</td>\n",
       "      <td>14980.193</td>\n",
       "    </tr>\n",
       "    <tr>\n",
       "      <th>121</th>\n",
       "      <td>2010-07-01</td>\n",
       "      <td>0.18</td>\n",
       "      <td>217.605</td>\n",
       "      <td>1.0675</td>\n",
       "      <td>1.2464</td>\n",
       "      <td>15141.607</td>\n",
       "    </tr>\n",
       "    <tr>\n",
       "      <th>188</th>\n",
       "      <td>2010-10-01</td>\n",
       "      <td>0.19</td>\n",
       "      <td>219.035</td>\n",
       "      <td>0.9761</td>\n",
       "      <td>1.3754</td>\n",
       "      <td>15309.474</td>\n",
       "    </tr>\n",
       "    <tr>\n",
       "      <th>254</th>\n",
       "      <td>2011-01-01</td>\n",
       "      <td>0.17</td>\n",
       "      <td>221.187</td>\n",
       "      <td>NaN</td>\n",
       "      <td>NaN</td>\n",
       "      <td>15351.448</td>\n",
       "    </tr>\n",
       "  </tbody>\n",
       "</table>\n",
       "</div>"
      ],
      "text/plain": [
       "          date  us_rates_%      CPI  usd_chf  eur_usd        GDP\n",
       "55  2010-04-01        0.20  217.403   1.0559   1.3569  14980.193\n",
       "121 2010-07-01        0.18  217.605   1.0675   1.2464  15141.607\n",
       "188 2010-10-01        0.19  219.035   0.9761   1.3754  15309.474\n",
       "254 2011-01-01        0.17  221.187      NaN      NaN  15351.448"
      ]
     },
     "execution_count": 169,
     "metadata": {},
     "output_type": "execute_result"
    }
   ],
   "source": [
    "df[non_asset_columns].query(\"GDP.notnull()\").head(4)"
   ]
  },
  {
   "cell_type": "markdown",
   "metadata": {},
   "source": [
    "As one can see, GDP is updated once every three months. Let's assume a constant growth rate between each measurement."
   ]
  },
  {
   "cell_type": "code",
   "execution_count": 179,
   "metadata": {},
   "outputs": [],
   "source": [
    "df = df_temp.copy()"
   ]
  },
  {
   "cell_type": "code",
   "execution_count": 136,
   "metadata": {},
   "outputs": [],
   "source": [
    "df_temp = df.copy()"
   ]
  },
  {
   "cell_type": "markdown",
   "metadata": {},
   "source": [
    "Interpolate forwards then backwards to get initial rows"
   ]
  },
  {
   "cell_type": "code",
   "execution_count": 178,
   "metadata": {},
   "outputs": [
    {
     "data": {
      "text/plain": [
       "'non_asset_date_columns =[col for col in non_asset_columns if \"date\" not in col]\\ndf[[col+\"_interpolated\" for col in non_asset_date_columns]] =df[non_asset_date_columns].interpolate()\\ndf[[col for col in df.columns if \"interpolated\" in col]] = df[[col for col in df.columns if \"interpolated\" in col]].interpolate(limit_direction=\"backward\")'"
      ]
     },
     "execution_count": 178,
     "metadata": {},
     "output_type": "execute_result"
    }
   ],
   "source": [
    "\"\"\"non_asset_date_columns =[col for col in non_asset_columns if \"date\" not in col]\n",
    "df[[col+\"_interpolated\" for col in non_asset_date_columns]] =df[non_asset_date_columns].interpolate()\n",
    "df[[col for col in df.columns if \"interpolated\" in col]] = df[[col for col in df.columns if \"interpolated\" in col]].interpolate(limit_direction=\"backward\")\"\"\""
   ]
  },
  {
   "cell_type": "markdown",
   "metadata": {},
   "source": [
    "We can also have columns representing CPI, usd_chf, eur_usd of latest available data. This will look reminiscent to a square wave (_ - _) and will allow us to calculate percent differences"
   ]
  },
  {
   "cell_type": "markdown",
   "metadata": {},
   "source": [
    "Let's bring forward all known non-asset values to fill NULLs."
   ]
  },
  {
   "cell_type": "code",
   "execution_count": 188,
   "metadata": {},
   "outputs": [],
   "source": [
    "non_asset_date_columns =[col for col in non_asset_columns if \"date\" not in col]\n",
    "df[non_asset_columns] = df[non_asset_columns].ffill()"
   ]
  },
  {
   "cell_type": "markdown",
   "metadata": {},
   "source": [
    "It's best to keep information regarding the difference in non_asset data such as CPI relative to when it was first available. We will call this \"shock\""
   ]
  },
  {
   "cell_type": "code",
   "execution_count": 197,
   "metadata": {},
   "outputs": [],
   "source": [
    "df[[col+\"_shock\" for col in non_asset_date_columns]] = df[non_asset_date_columns]/df[non_asset_date_columns].shift(1)"
   ]
  },
  {
   "cell_type": "markdown",
   "metadata": {},
   "source": [
    "Also note that there is one currency relationship that is USD over CHF, and another where it is the divisor (EUR). Let's make it inverse."
   ]
  },
  {
   "cell_type": "code",
   "execution_count": 227,
   "metadata": {},
   "outputs": [],
   "source": [
    "df['usd_eur'] = 1/df['eur_usd']"
   ]
  },
  {
   "cell_type": "markdown",
   "metadata": {},
   "source": [
    "Note that inflation affects both GDP, CPI, and S&P. Let's look at the relationship between the S&P and various non asset values such as CPI. "
   ]
  },
  {
   "cell_type": "code",
   "execution_count": 229,
   "metadata": {},
   "outputs": [
    {
     "data": {
      "image/png": "[encoded data removed]",
      "text/plain": [
       "<Figure size 1400x800 with 8 Axes>"
      ]
     },
     "metadata": {},
     "output_type": "display_data"
    }
   ],
   "source": [
    "fig, axs = plt.subplots(2,2, figsize=(14,8))\n",
    "#GDP\n",
    "axs[0,0].plot(df.date, df.GDP, label=\"GDP\", color=\"purple\")\n",
    "ax\n",
    "axs[0,0].set_title(\"GDP vs S&P 500\")\n",
    "axs[0,0].legend()\n",
    "\n",
    "axs_spy = axs[0,0].twinx()\n",
    "axs_spy.plot(df.date, df[\"sp500 close\"], label=\"S&P 500\", color='g')\n",
    "#axs_spy.legend()\n",
    "\n",
    "\n",
    "\n",
    "#US Rates\n",
    "axs[1,0].plot(df.date, df[\"us_rates_%\"], label=\"US Rates %\", color=\"blue\")\n",
    "ax\n",
    "axs[1,0].set_title(\"US Rates vs S&P 500\")\n",
    "axs[1,0].legend()\n",
    "\n",
    "axs_spy = axs[1,0].twinx()\n",
    "axs_spy.plot(df.date, df[\"sp500 close\"], label=\"S&P 500\", color='g')\n",
    "#axs_spy.legend()\n",
    "\n",
    "#CPI\n",
    "axs[0,1].plot(df.date, df[\"CPI\"], label=\"CPI\", color=\"grey\")\n",
    "ax\n",
    "axs[0,1].set_title(\"CPI vs S&P 500\")\n",
    "axs[0,1].legend()\n",
    "\n",
    "axs_spy = axs[0,1].twinx()\n",
    "axs_spy.plot(df.date, df[\"sp500 close\"], label=\"S&P 500\", color='g')\n",
    "#axs_spy.legend()\n",
    "\n",
    "#CPI\n",
    "axs[1,1].plot(df.date, df.usd_chf, label=\"USD vs CHF\", color=\"#8B0000\")\n",
    "axs[1,1].plot(df.date, df['usd_eur'], label=\"USD vs EUR\", color=\"red\")\n",
    "axs[1,1].set_title(\"GDP vs USD/EUR & CHF\")\n",
    "axs[1,1].legend()\n",
    "\n",
    "axs_spy = axs[1,1].twinx()\n",
    "axs_spy.plot(df.date, df[\"sp500 close\"], label=\"S&P 500\", color='g')\n",
    "#axs_spy.legend()\n",
    "\n",
    "plt.show()\n",
    "#plt.plot(df['date'], df[[col for col in non_asset_columns if col!='date']])"
   ]
  },
  {
   "cell_type": "code",
   "execution_count": 212,
   "metadata": {},
   "outputs": [
    {
     "data": {
      "text/plain": [
       "Index(['date', 'sp500 high', 'sp500 low', 'sp500 close', 'sp500 volume',\n",
       "       'sp500 high-low', 'nasdaq high', 'nasdaq low', 'nasdaq close',\n",
       "       'nasdaq volume', 'nasdaq high-low', 'us_rates_%', 'CPI', 'usd_chf',\n",
       "       'eur_usd', 'GDP', 'silver high', 'silver low', 'silver close',\n",
       "       'silver volume', 'silver high-low', 'oil high', 'oil low', 'oil close',\n",
       "       'oil volume', 'oil high-low', 'platinum high', 'platinum low',\n",
       "       'platinum close', 'platinum volume', 'platinum high-low',\n",
       "       'palladium high', 'palladium low', 'palladium close',\n",
       "       'palladium volume', 'palladium high-low', 'gold high', 'gold low',\n",
       "       'gold close', 'gold volume', 'us_rates_%_shock', 'CPI_shock',\n",
       "       'usd_chf_shock', 'eur_usd_shock', 'GDP_shock'],\n",
       "      dtype='object')"
      ]
     },
     "execution_count": 212,
     "metadata": {},
     "output_type": "execute_result"
    }
   ],
   "source": [
    "df.columns"
   ]
  },
  {
   "cell_type": "markdown",
   "metadata": {},
   "source": [
    "Let's drop rows where the markets were closed"
   ]
  },
  {
   "cell_type": "code",
   "execution_count": 107,
   "metadata": {},
   "outputs": [
    {
     "data": {
      "text/plain": [
       "(3719, 27)"
      ]
     },
     "execution_count": 107,
     "metadata": {},
     "output_type": "execute_result"
    }
   ],
   "source": [
    "df = df.dropna(subset=[x for x in df.columns if x not in non_asset_columns])\n",
    "df.shape"
   ]
  },
  {
   "cell_type": "code",
   "execution_count": 100,
   "metadata": {},
   "outputs": [
    {
     "data": {
      "text/plain": [
       "count    176.000000\n",
       "mean     253.275511\n",
       "std       27.444318\n",
       "min      217.199000\n",
       "25%      233.637750\n",
       "50%      244.178000\n",
       "75%      262.784250\n",
       "max      314.686000\n",
       "Name: CPI, dtype: float64"
      ]
     },
     "execution_count": 100,
     "metadata": {},
     "output_type": "execute_result"
    }
   ],
   "source": [
    "df.CPI.describe()"
   ]
  },
  {
   "cell_type": "code",
   "execution_count": null,
   "metadata": {},
   "outputs": [],
   "source": []
  }
 ],
 "metadata": {
  "kernelspec": {
   "display_name": "condaEnvDjango",
   "language": "python",
   "name": "python3"
  },
  "language_info": {
   "codemirror_mode": {
    "name": "ipython",
    "version": 3
   },
   "file_extension": ".py",
   "mimetype": "text/x-python",
   "name": "python",
   "nbconvert_exporter": "python",
   "pygments_lexer": "ipython3",
   "version": "3.12.7"
  }
 },
 "nbformat": 4,
 "nbformat_minor": 2
}
